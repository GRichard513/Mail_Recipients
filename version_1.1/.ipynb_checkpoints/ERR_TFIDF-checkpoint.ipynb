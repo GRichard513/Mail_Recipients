{
 "cells": [
  {
   "cell_type": "markdown",
   "metadata": {},
   "source": [
    "<h1>Email recipient recommendation</h1>\n",
    "\n",
    "<i>Thomas Boudou, Guillaume Richard, Antoine Simoulin</i>\n",
    "\n",
    "<p style=\"text-align: justify\">It was shown that at work, employees frequently forget to include one or more recipient(s) before sending a message. Conversely, it is common that some recipients of a given message were actually not intended to receive the message. To increase productivity and prevent information leakage, the needs for effective <b>email recipient recommendation</b> systems are thus pressing.\n",
    "\n",
    "In this challenge, you are asked to develop such a system, which, given the content and the date of a message, recommends a list of <b>10 recipients ranked by decreasing order of relevance</b>.</p>"
   ]
  },
  {
   "cell_type": "code",
   "execution_count": 1,
   "metadata": {
    "collapsed": false
   },
   "outputs": [],
   "source": [
    "# Requirements\n",
    "%matplotlib inline\n",
    "import random\n",
    "import pandas as pd\n",
    "import numpy as np\n",
    "# do not display warnings\n",
    "import warnings\n",
    "warnings.filterwarnings(\"ignore\")\n",
    "\n",
    "# Functions files are saved in \"src/\" directory.\n",
    "import sys\n",
    "sys.path.append('src/')\n",
    "from accuracy_measure import *"
   ]
  },
  {
   "cell_type": "code",
   "execution_count": 2,
   "metadata": {
    "collapsed": false
   },
   "outputs": [
    {
     "ename": "KeyError",
     "evalue": "0",
     "output_type": "error",
     "traceback": [
      "\u001b[0;31m---------------------------------------------------------------------------\u001b[0m",
      "\u001b[0;31mKeyError\u001b[0m                                  Traceback (most recent call last)",
      "\u001b[0;32m/Users/Antoine/anaconda3/lib/python3.5/site-packages/pandas/indexes/base.py\u001b[0m in \u001b[0;36mget_loc\u001b[0;34m(self, key, method, tolerance)\u001b[0m\n\u001b[1;32m   1944\u001b[0m             \u001b[0;32mtry\u001b[0m\u001b[0;34m:\u001b[0m\u001b[0;34m\u001b[0m\u001b[0m\n\u001b[0;32m-> 1945\u001b[0;31m                 \u001b[0;32mreturn\u001b[0m \u001b[0mself\u001b[0m\u001b[0;34m.\u001b[0m\u001b[0m_engine\u001b[0m\u001b[0;34m.\u001b[0m\u001b[0mget_loc\u001b[0m\u001b[0;34m(\u001b[0m\u001b[0mkey\u001b[0m\u001b[0;34m)\u001b[0m\u001b[0;34m\u001b[0m\u001b[0m\n\u001b[0m\u001b[1;32m   1946\u001b[0m             \u001b[0;32mexcept\u001b[0m \u001b[0mKeyError\u001b[0m\u001b[0;34m:\u001b[0m\u001b[0;34m\u001b[0m\u001b[0m\n",
      "\u001b[0;32mpandas/index.pyx\u001b[0m in \u001b[0;36mpandas.index.IndexEngine.get_loc (pandas/index.c:4154)\u001b[0;34m()\u001b[0m\n",
      "\u001b[0;32mpandas/index.pyx\u001b[0m in \u001b[0;36mpandas.index.IndexEngine.get_loc (pandas/index.c:4018)\u001b[0;34m()\u001b[0m\n",
      "\u001b[0;32mpandas/hashtable.pyx\u001b[0m in \u001b[0;36mpandas.hashtable.PyObjectHashTable.get_item (pandas/hashtable.c:12368)\u001b[0;34m()\u001b[0m\n",
      "\u001b[0;32mpandas/hashtable.pyx\u001b[0m in \u001b[0;36mpandas.hashtable.PyObjectHashTable.get_item (pandas/hashtable.c:12322)\u001b[0;34m()\u001b[0m\n",
      "\u001b[0;31mKeyError\u001b[0m: 0",
      "\nDuring handling of the above exception, another exception occurred:\n",
      "\u001b[0;31mKeyError\u001b[0m                                  Traceback (most recent call last)",
      "\u001b[0;32m<ipython-input-2-ead3832974f5>\u001b[0m in \u001b[0;36m<module>\u001b[0;34m()\u001b[0m\n\u001b[1;32m     15\u001b[0m \u001b[0;34m\u001b[0m\u001b[0m\n\u001b[1;32m     16\u001b[0m \u001b[0;31m# remove non authorise adress from y_df\u001b[0m\u001b[0;34m\u001b[0m\u001b[0;34m\u001b[0m\u001b[0m\n\u001b[0;32m---> 17\u001b[0;31m \u001b[0my_df\u001b[0m \u001b[0;34m=\u001b[0m \u001b[0mclean\u001b[0m\u001b[0;34m(\u001b[0m\u001b[0my_df\u001b[0m\u001b[0;34m)\u001b[0m\u001b[0;34m\u001b[0m\u001b[0m\n\u001b[0m",
      "\u001b[0;32m/Users/Antoine/Documents/Master/Mail_Recipients/version_1.1/src/load_data.py\u001b[0m in \u001b[0;36mclean\u001b[0;34m(y)\u001b[0m\n\u001b[1;32m     87\u001b[0m \u001b[0;32mdef\u001b[0m \u001b[0mclean\u001b[0m\u001b[0;34m(\u001b[0m\u001b[0my\u001b[0m\u001b[0;34m)\u001b[0m\u001b[0;34m:\u001b[0m\u001b[0;34m\u001b[0m\u001b[0m\n\u001b[1;32m     88\u001b[0m     \u001b[0;32mfor\u001b[0m \u001b[0mi\u001b[0m \u001b[0;32min\u001b[0m \u001b[0mrange\u001b[0m\u001b[0;34m(\u001b[0m\u001b[0my\u001b[0m\u001b[0;34m.\u001b[0m\u001b[0mshape\u001b[0m\u001b[0;34m[\u001b[0m\u001b[0;36m0\u001b[0m\u001b[0;34m]\u001b[0m\u001b[0;34m)\u001b[0m\u001b[0;34m:\u001b[0m\u001b[0;34m\u001b[0m\u001b[0m\n\u001b[0;32m---> 89\u001b[0;31m         \u001b[0mrecpt_temp\u001b[0m \u001b[0;34m=\u001b[0m \u001b[0;34m[\u001b[0m\u001b[0mrecpt\u001b[0m \u001b[0;32mfor\u001b[0m \u001b[0mrecpt\u001b[0m \u001b[0;32min\u001b[0m \u001b[0my\u001b[0m\u001b[0;34m[\u001b[0m\u001b[0mi\u001b[0m\u001b[0;34m]\u001b[0m \u001b[0;32mif\u001b[0m \u001b[0;34m'@'\u001b[0m \u001b[0;32min\u001b[0m \u001b[0mrecpt\u001b[0m\u001b[0;34m]\u001b[0m\u001b[0;34m\u001b[0m\u001b[0m\n\u001b[0m\u001b[1;32m     90\u001b[0m         \u001b[0my\u001b[0m\u001b[0;34m[\u001b[0m\u001b[0mi\u001b[0m\u001b[0;34m]\u001b[0m \u001b[0;34m=\u001b[0m \u001b[0mrecpt_temp\u001b[0m\u001b[0;34m\u001b[0m\u001b[0m\n\u001b[1;32m     91\u001b[0m     \u001b[0;32mreturn\u001b[0m \u001b[0my\u001b[0m\u001b[0;34m\u001b[0m\u001b[0m\n",
      "\u001b[0;32m/Users/Antoine/anaconda3/lib/python3.5/site-packages/pandas/core/frame.py\u001b[0m in \u001b[0;36m__getitem__\u001b[0;34m(self, key)\u001b[0m\n\u001b[1;32m   1995\u001b[0m             \u001b[0;32mreturn\u001b[0m \u001b[0mself\u001b[0m\u001b[0;34m.\u001b[0m\u001b[0m_getitem_multilevel\u001b[0m\u001b[0;34m(\u001b[0m\u001b[0mkey\u001b[0m\u001b[0;34m)\u001b[0m\u001b[0;34m\u001b[0m\u001b[0m\n\u001b[1;32m   1996\u001b[0m         \u001b[0;32melse\u001b[0m\u001b[0;34m:\u001b[0m\u001b[0;34m\u001b[0m\u001b[0m\n\u001b[0;32m-> 1997\u001b[0;31m             \u001b[0;32mreturn\u001b[0m \u001b[0mself\u001b[0m\u001b[0;34m.\u001b[0m\u001b[0m_getitem_column\u001b[0m\u001b[0;34m(\u001b[0m\u001b[0mkey\u001b[0m\u001b[0;34m)\u001b[0m\u001b[0;34m\u001b[0m\u001b[0m\n\u001b[0m\u001b[1;32m   1998\u001b[0m \u001b[0;34m\u001b[0m\u001b[0m\n\u001b[1;32m   1999\u001b[0m     \u001b[0;32mdef\u001b[0m \u001b[0m_getitem_column\u001b[0m\u001b[0;34m(\u001b[0m\u001b[0mself\u001b[0m\u001b[0;34m,\u001b[0m \u001b[0mkey\u001b[0m\u001b[0;34m)\u001b[0m\u001b[0;34m:\u001b[0m\u001b[0;34m\u001b[0m\u001b[0m\n",
      "\u001b[0;32m/Users/Antoine/anaconda3/lib/python3.5/site-packages/pandas/core/frame.py\u001b[0m in \u001b[0;36m_getitem_column\u001b[0;34m(self, key)\u001b[0m\n\u001b[1;32m   2002\u001b[0m         \u001b[0;31m# get column\u001b[0m\u001b[0;34m\u001b[0m\u001b[0;34m\u001b[0m\u001b[0m\n\u001b[1;32m   2003\u001b[0m         \u001b[0;32mif\u001b[0m \u001b[0mself\u001b[0m\u001b[0;34m.\u001b[0m\u001b[0mcolumns\u001b[0m\u001b[0;34m.\u001b[0m\u001b[0mis_unique\u001b[0m\u001b[0;34m:\u001b[0m\u001b[0;34m\u001b[0m\u001b[0m\n\u001b[0;32m-> 2004\u001b[0;31m             \u001b[0;32mreturn\u001b[0m \u001b[0mself\u001b[0m\u001b[0;34m.\u001b[0m\u001b[0m_get_item_cache\u001b[0m\u001b[0;34m(\u001b[0m\u001b[0mkey\u001b[0m\u001b[0;34m)\u001b[0m\u001b[0;34m\u001b[0m\u001b[0m\n\u001b[0m\u001b[1;32m   2005\u001b[0m \u001b[0;34m\u001b[0m\u001b[0m\n\u001b[1;32m   2006\u001b[0m         \u001b[0;31m# duplicate columns & possible reduce dimensionality\u001b[0m\u001b[0;34m\u001b[0m\u001b[0;34m\u001b[0m\u001b[0m\n",
      "\u001b[0;32m/Users/Antoine/anaconda3/lib/python3.5/site-packages/pandas/core/generic.py\u001b[0m in \u001b[0;36m_get_item_cache\u001b[0;34m(self, item)\u001b[0m\n\u001b[1;32m   1348\u001b[0m         \u001b[0mres\u001b[0m \u001b[0;34m=\u001b[0m \u001b[0mcache\u001b[0m\u001b[0;34m.\u001b[0m\u001b[0mget\u001b[0m\u001b[0;34m(\u001b[0m\u001b[0mitem\u001b[0m\u001b[0;34m)\u001b[0m\u001b[0;34m\u001b[0m\u001b[0m\n\u001b[1;32m   1349\u001b[0m         \u001b[0;32mif\u001b[0m \u001b[0mres\u001b[0m \u001b[0;32mis\u001b[0m \u001b[0;32mNone\u001b[0m\u001b[0;34m:\u001b[0m\u001b[0;34m\u001b[0m\u001b[0m\n\u001b[0;32m-> 1350\u001b[0;31m             \u001b[0mvalues\u001b[0m \u001b[0;34m=\u001b[0m \u001b[0mself\u001b[0m\u001b[0;34m.\u001b[0m\u001b[0m_data\u001b[0m\u001b[0;34m.\u001b[0m\u001b[0mget\u001b[0m\u001b[0;34m(\u001b[0m\u001b[0mitem\u001b[0m\u001b[0;34m)\u001b[0m\u001b[0;34m\u001b[0m\u001b[0m\n\u001b[0m\u001b[1;32m   1351\u001b[0m             \u001b[0mres\u001b[0m \u001b[0;34m=\u001b[0m \u001b[0mself\u001b[0m\u001b[0;34m.\u001b[0m\u001b[0m_box_item_values\u001b[0m\u001b[0;34m(\u001b[0m\u001b[0mitem\u001b[0m\u001b[0;34m,\u001b[0m \u001b[0mvalues\u001b[0m\u001b[0;34m)\u001b[0m\u001b[0;34m\u001b[0m\u001b[0m\n\u001b[1;32m   1352\u001b[0m             \u001b[0mcache\u001b[0m\u001b[0;34m[\u001b[0m\u001b[0mitem\u001b[0m\u001b[0;34m]\u001b[0m \u001b[0;34m=\u001b[0m \u001b[0mres\u001b[0m\u001b[0;34m\u001b[0m\u001b[0m\n",
      "\u001b[0;32m/Users/Antoine/anaconda3/lib/python3.5/site-packages/pandas/core/internals.py\u001b[0m in \u001b[0;36mget\u001b[0;34m(self, item, fastpath)\u001b[0m\n\u001b[1;32m   3288\u001b[0m \u001b[0;34m\u001b[0m\u001b[0m\n\u001b[1;32m   3289\u001b[0m             \u001b[0;32mif\u001b[0m \u001b[0;32mnot\u001b[0m \u001b[0misnull\u001b[0m\u001b[0;34m(\u001b[0m\u001b[0mitem\u001b[0m\u001b[0;34m)\u001b[0m\u001b[0;34m:\u001b[0m\u001b[0;34m\u001b[0m\u001b[0m\n\u001b[0;32m-> 3290\u001b[0;31m                 \u001b[0mloc\u001b[0m \u001b[0;34m=\u001b[0m \u001b[0mself\u001b[0m\u001b[0;34m.\u001b[0m\u001b[0mitems\u001b[0m\u001b[0;34m.\u001b[0m\u001b[0mget_loc\u001b[0m\u001b[0;34m(\u001b[0m\u001b[0mitem\u001b[0m\u001b[0;34m)\u001b[0m\u001b[0;34m\u001b[0m\u001b[0m\n\u001b[0m\u001b[1;32m   3291\u001b[0m             \u001b[0;32melse\u001b[0m\u001b[0;34m:\u001b[0m\u001b[0;34m\u001b[0m\u001b[0m\n\u001b[1;32m   3292\u001b[0m                 \u001b[0mindexer\u001b[0m \u001b[0;34m=\u001b[0m \u001b[0mnp\u001b[0m\u001b[0;34m.\u001b[0m\u001b[0marange\u001b[0m\u001b[0;34m(\u001b[0m\u001b[0mlen\u001b[0m\u001b[0;34m(\u001b[0m\u001b[0mself\u001b[0m\u001b[0;34m.\u001b[0m\u001b[0mitems\u001b[0m\u001b[0;34m)\u001b[0m\u001b[0;34m)\u001b[0m\u001b[0;34m[\u001b[0m\u001b[0misnull\u001b[0m\u001b[0;34m(\u001b[0m\u001b[0mself\u001b[0m\u001b[0;34m.\u001b[0m\u001b[0mitems\u001b[0m\u001b[0;34m)\u001b[0m\u001b[0;34m]\u001b[0m\u001b[0;34m\u001b[0m\u001b[0m\n",
      "\u001b[0;32m/Users/Antoine/anaconda3/lib/python3.5/site-packages/pandas/indexes/base.py\u001b[0m in \u001b[0;36mget_loc\u001b[0;34m(self, key, method, tolerance)\u001b[0m\n\u001b[1;32m   1945\u001b[0m                 \u001b[0;32mreturn\u001b[0m \u001b[0mself\u001b[0m\u001b[0;34m.\u001b[0m\u001b[0m_engine\u001b[0m\u001b[0;34m.\u001b[0m\u001b[0mget_loc\u001b[0m\u001b[0;34m(\u001b[0m\u001b[0mkey\u001b[0m\u001b[0;34m)\u001b[0m\u001b[0;34m\u001b[0m\u001b[0m\n\u001b[1;32m   1946\u001b[0m             \u001b[0;32mexcept\u001b[0m \u001b[0mKeyError\u001b[0m\u001b[0;34m:\u001b[0m\u001b[0;34m\u001b[0m\u001b[0m\n\u001b[0;32m-> 1947\u001b[0;31m                 \u001b[0;32mreturn\u001b[0m \u001b[0mself\u001b[0m\u001b[0;34m.\u001b[0m\u001b[0m_engine\u001b[0m\u001b[0;34m.\u001b[0m\u001b[0mget_loc\u001b[0m\u001b[0;34m(\u001b[0m\u001b[0mself\u001b[0m\u001b[0;34m.\u001b[0m\u001b[0m_maybe_cast_indexer\u001b[0m\u001b[0;34m(\u001b[0m\u001b[0mkey\u001b[0m\u001b[0;34m)\u001b[0m\u001b[0;34m)\u001b[0m\u001b[0;34m\u001b[0m\u001b[0m\n\u001b[0m\u001b[1;32m   1948\u001b[0m \u001b[0;34m\u001b[0m\u001b[0m\n\u001b[1;32m   1949\u001b[0m         \u001b[0mindexer\u001b[0m \u001b[0;34m=\u001b[0m \u001b[0mself\u001b[0m\u001b[0;34m.\u001b[0m\u001b[0mget_indexer\u001b[0m\u001b[0;34m(\u001b[0m\u001b[0;34m[\u001b[0m\u001b[0mkey\u001b[0m\u001b[0;34m]\u001b[0m\u001b[0;34m,\u001b[0m \u001b[0mmethod\u001b[0m\u001b[0;34m=\u001b[0m\u001b[0mmethod\u001b[0m\u001b[0;34m,\u001b[0m \u001b[0mtolerance\u001b[0m\u001b[0;34m=\u001b[0m\u001b[0mtolerance\u001b[0m\u001b[0;34m)\u001b[0m\u001b[0;34m\u001b[0m\u001b[0m\n",
      "\u001b[0;32mpandas/index.pyx\u001b[0m in \u001b[0;36mpandas.index.IndexEngine.get_loc (pandas/index.c:4154)\u001b[0;34m()\u001b[0m\n",
      "\u001b[0;32mpandas/index.pyx\u001b[0m in \u001b[0;36mpandas.index.IndexEngine.get_loc (pandas/index.c:4018)\u001b[0;34m()\u001b[0m\n",
      "\u001b[0;32mpandas/hashtable.pyx\u001b[0m in \u001b[0;36mpandas.hashtable.PyObjectHashTable.get_item (pandas/hashtable.c:12368)\u001b[0;34m()\u001b[0m\n",
      "\u001b[0;32mpandas/hashtable.pyx\u001b[0m in \u001b[0;36mpandas.hashtable.PyObjectHashTable.get_item (pandas/hashtable.c:12322)\u001b[0;34m()\u001b[0m\n",
      "\u001b[0;31mKeyError\u001b[0m: 0"
     ]
    }
   ],
   "source": [
    "from load_data import *\n",
    "\n",
    "# load files\n",
    "# Data are saved in \"data/\" directory\n",
    "path_to_data = 'data/'\n",
    "training, training_info, test, test_info, y_df = load_data(path_to_data)\n",
    "\n",
    "# create adress book\n",
    "# /!\\ can take 1-2 min\n",
    "address_books = create_address_books(training, y_df)\n",
    "\n",
    "# join train and test files\n",
    "X_df = join_data(training_info, training)\n",
    "X_sub_df = join_data(test_info, test)\n",
    "\n",
    "# remove non authorise adress from y_df\n",
    "y_df = clean(y_df)"
   ]
  },
  {
   "cell_type": "code",
   "execution_count": 3,
   "metadata": {
    "collapsed": false
   },
   "outputs": [
    {
     "name": "stdout",
     "output_type": "stream",
     "text": [
      "performed Tf-Idf in 26 seconds.\n",
      "performed Tf-Idf in  1 seconds.\n"
     ]
    }
   ],
   "source": [
    "import TFIDF_mod\n",
    "from TFIDF_mod import TFIDF\n",
    "\n",
    "# transform each mail body into tfidf vector\n",
    "# /!\\ function can take 1-2 min to execute\n",
    "TFIDF = TFIDF()\n",
    "X_TFIDF = TFIDF.fit_transform(X_df) # resulting shape : (43613, 275988)\n",
    "X_sub_TFIDF = TFIDF.transform(X_sub_df)"
   ]
  },
  {
   "cell_type": "markdown",
   "metadata": {},
   "source": [
    "<h2>Predictors</h2>"
   ]
  },
  {
   "cell_type": "code",
   "execution_count": null,
   "metadata": {
    "collapsed": true
   },
   "outputs": [],
   "source": [
    "from sklearn.metrics.pairwise import cosine_similarity\n",
    "import numpy as np\n",
    "\n",
    "def complete_prediction(k, sender, address_books, res_temp, K=10):\n",
    "    # k the number of recipients to predict\n",
    "    k_most = [elt[0] for elt in address_books[sender][:K] if elt[0] not in res_temp]\n",
    "    k_most = k_most[:k]\n",
    "    if len(k_most) < k: # sender n'a pas assez de contacts\n",
    "        k_most.extend([0] * (k-len(k_most)))\n",
    "    return k_most"
   ]
  },
  {
   "cell_type": "markdown",
   "metadata": {},
   "source": [
    "<h3>Predictor closest message with Tf-Idf</h3>"
   ]
  },
  {
   "cell_type": "code",
   "execution_count": 19,
   "metadata": {
    "collapsed": false
   },
   "outputs": [],
   "source": [
    "class Predictor_TFIDF():\n",
    "    def __init__(self, X, y, sender, address_books,N=10):\n",
    "        self.train = X\n",
    "        self.predict = y.values\n",
    "        self.sender = sender\n",
    "        self.address_books = address_books\n",
    "        self.N = min(N,10)\n",
    "        \n",
    "    def prediction(self, X):\n",
    "        res = []\n",
    "        for i in range(X.shape[0]):\n",
    "            cos = cosine_similarity(X[i],self.train).argsort()[:,0][0] # mail le plus proche\n",
    "            if self.N != 0:\n",
    "                res_temp = [self.predict[cos][0][:self.N]] # add the N first recipients of the closest e-mail\n",
    "            else:\n",
    "                 res_temp = []\n",
    "            # if less than 10 recipients, complete the prediction with more frequents users\n",
    "            if len(res_temp) < 10:\n",
    "                res_temp.extend(complete_prediction(10-len(res_temp),self.sender, self.address_books, res_temp))\n",
    "            res.append(res_temp)\n",
    "        return res"
   ]
  },
  {
   "cell_type": "markdown",
   "metadata": {},
   "source": [
    "<h3>Predictor KNN</h3>"
   ]
  },
  {
   "cell_type": "code",
   "execution_count": 30,
   "metadata": {
    "collapsed": true
   },
   "outputs": [],
   "source": [
    "class Predictor_KNN():\n",
    "    def __init__(self, X, y, sender, address_books,N=10):\n",
    "        self.train = X\n",
    "        self.predict = y.values\n",
    "        self.sender = sender\n",
    "        self.N = min(N,10)\n",
    "        self.address_books = address_books\n",
    "\n",
    "    def prediction(self, X):\n",
    "        res = []\n",
    "        for i in range(X.shape[0]):\n",
    "            cos = cosine_similarity(X[i],self.train).argsort()[:,:30][0] # 30 mails les plus proches\n",
    "            if self.N != 0:\n",
    "                NN_recpt = {}\n",
    "                for j in range(30):\n",
    "                    for k in range(len(self.predict[cos[j]])):\n",
    "                        if self.predict[cos[j]][k] in NN_recpt:\n",
    "                            NN_recpt[self.predict[cos[j]][k]]+= 1\n",
    "                        else:\n",
    "                            NN_recpt[self.predict[cos[j]][k]] = 1\n",
    "                res_temp = [k for k in sorted(NN_recpt, key=NN_recpt.get, reverse=True)][:10]\n",
    "                #list(dict(sorted(NN_recpt.items(), key=operator.itemgetter(1), reverse=True)[:10]))\n",
    "            else:\n",
    "                 res_temp = []\n",
    "            # if less than 10 recipients, complete the prediction with more frequents users\n",
    "            if len(res_temp) < 10:\n",
    "                res_temp.extend(complete_prediction(10-len(res_temp),self.sender, self.address_books, res_temp))\n",
    "            res.append(res_temp)\n",
    "        return res"
   ]
  },
  {
   "cell_type": "markdown",
   "metadata": {},
   "source": [
    "<h3>Predictor Tf-Idf centralized centroïd</h3>"
   ]
  },
  {
   "cell_type": "code",
   "execution_count": 98,
   "metadata": {
    "collapsed": false
   },
   "outputs": [],
   "source": [
    "import scipy\n",
    "from sklearn.preprocessing import normalize\n",
    "\n",
    "\n",
    "class Predictor_CTFIDF():\n",
    "    def __init__(self, X, y, sender, address_books,N=10):\n",
    "        self.N = min(N,10)\n",
    "        self.train = X\n",
    "        self.predict = y.values\n",
    "        self.sender = sender\n",
    "        self.address_books = address_books\n",
    "        self.X_recpt = {}\n",
    "        \n",
    "        # perform centroid Tf-Idf. i.e each 10 most frequent recipients is represented \n",
    "        # by an average of all mail he received.\n",
    "        # exctract 10 most frequents recipients\n",
    "        self.k_most = [elt[0] for elt in address_books[sender][:10]]\n",
    "        # perform average Tf-Idf on 10 most frequents recipients\n",
    "        for recpt in self.k_most: # loop trough 10 most frequents recipients\n",
    "            for i in range(X.shape[0]): # loop trough all mails send by sender\n",
    "                if recpt in self.predict[i]: # if recipients is in mail\n",
    "                    if recpt in self.X_recpt:\n",
    "                        self.X_recpt[recpt] += X[i,:]\n",
    "                    else:\n",
    "                        self.X_recpt[recpt] = X[i,:]\n",
    "            #self.X_recpt[recpt] = normalize(self.X_recpt[recpt], norm='l2', axis=1) # normalize tfidf vector\n",
    "\n",
    "    def prediction(self, X):\n",
    "        res = []\n",
    "        cos = {}\n",
    "        for i in range(X.shape[0]):\n",
    "            # cosine similarity with 10 most frequents recpt\n",
    "            for recpt, value in self.X_recpt.items():\n",
    "                #if isinstance(self.X_recpt[recpt], list): # check that sender has more than 10 recipients\n",
    "                cos[recpt] = cosine_similarity(X[i],self.X_recpt[recpt])#.argsort()[:,0][0]\n",
    "                #else:\n",
    "                #    cos[recpt] = 1\n",
    "            #if i==0:\n",
    "            #    print(cos)\n",
    "            #if 'no.address@enron.com' in cos:\n",
    "            #    cos['no.address@enron.com'] += 100\n",
    "            if self.N != 0:\n",
    "                # return the 10 most frequent recipients in order \n",
    "                # given by similarity to their centroid Tf-Idf representation\n",
    "                res_temp = [k for k in sorted(cos, key=cos.get, reverse=True)]\n",
    "                #list(dict(sorted(cos.items(), key=operator.itemgetter(1), reverse=False)[:10]))\n",
    "            else:\n",
    "                 res_temp = []\n",
    "            # if less than 10 recipients, complete the prediction with more frequents users\n",
    "            if len(res_temp) < 10:\n",
    "                res_temp.extend(complete_prediction(10-len(res_temp),self.sender, self.address_books, res_temp))\n",
    "            res.append(res_temp)\n",
    "        return res"
   ]
  },
  {
   "cell_type": "markdown",
   "metadata": {},
   "source": [
    "<h2>Cross validation module</h2>"
   ]
  },
  {
   "cell_type": "code",
   "execution_count": 99,
   "metadata": {
    "collapsed": false
   },
   "outputs": [
    {
     "name": "stdout",
     "output_type": "stream",
     "text": [
      " sender_nb |                                   sender |   accuracy | accuracy freq\n",
      "---------- + ---------------------------------------- + ---------- + -------------\n",
      "         0 |                 ginger.dernehl@enron.com |       0.76 |          0.74\n",
      "         1 |               marcus.nettelton@enron.com |       0.71 |          0.59\n",
      "         2 |                sara.shackleton@enron.com |       0.23 |          0.13\n",
      "         3 |                    susan.scott@enron.com |        0.2 |          0.09\n",
      "         4 |                     mark.whitt@enron.com |       0.47 |          0.41\n",
      "         5 |                julie.armstrong@enron.com |        0.6 |           0.7\n",
      "         6 |                     m..schmidt@enron.com |       0.98 |          0.99\n",
      "         7 |                  michelle.cash@enron.com |       0.26 |          0.24\n",
      "         8 |                    marie.heard@enron.com |        0.2 |          0.19\n",
      "         9 |                       kim.ward@enron.com |       0.33 |          0.19\n",
      "        10 |                 cheryl.johnson@enron.com |       0.87 |          0.86\n",
      "        11 |                      eric.bass@enron.com |       0.37 |          0.21\n",
      "        12 |                      mary.cook@enron.com |        0.4 |          0.38\n",
      "        13 |               larry.f.campbell@enron.com |       0.21 |          0.16\n",
      "        14 |               hunter.s.shively@enron.com |       0.38 |          0.24\n",
      "        15 |                    w..cantrell@enron.com |       0.64 |          0.68\n",
      "        16 |                james.d.steffes@enron.com |       0.32 |          0.24\n",
      "        17 |                 kevin.m.presto@enron.com |       0.25 |          0.22\n",
      "        18 |                    karen.denne@enron.com |       0.55 |          0.53\n",
      "        19 |                     lynn.blair@enron.com |       0.41 |          0.33\n",
      "        20 |                stephanie.panus@enron.com |       0.54 |           0.5\n",
      "        21 |                  becky.spencer@enron.com |       0.65 |          0.65\n",
      "        22 |                       c..giron@enron.com |        0.3 |          0.22\n",
      "        23 |                 phillip.m.love@enron.com |       0.18 |          0.13\n",
      "        24 |                       rick.buy@enron.com |       0.22 |          0.14\n",
      "        25 |                   beth.cherry@enform.com |       0.78 |          0.95\n",
      "        26 |                  david.forster@enron.com |       0.56 |          0.52\n",
      "        27 |                  chris.germany@enron.com |       0.15 |           0.1\n",
      "        28 |                  john.lavorato@enron.com |        0.3 |          0.15\n",
      "        29 |                  james.derrick@enron.com |       0.42 |          0.39\n",
      "        30 |                  dutch.quigley@enron.com |       0.33 |           0.3\n",
      "        31 |                  lorna.brennan@enron.com |       0.83 |          0.83\n",
      "        32 |                      m..forney@enron.com |       0.21 |          0.17\n",
      "        33 |                     sally.beck@enron.com |        0.2 |          0.15\n",
      "        34 |          nancy.sellers@robertmondavi.com |       0.73 |          0.87\n",
      "        35 |                     matt.smith@enron.com |       0.33 |          0.15\n",
      "        36 |                   megan.parker@enron.com |       0.86 |          0.89\n",
      "        37 |                 patrice.l.mims@enron.com |       0.22 |          0.14\n",
      "        38 |                         taylor@enron.com |       0.14 |          0.13\n",
      "        39 |                 jason.williams@enron.com |       0.48 |          0.29\n",
      "        40 |                   holly.keiser@enron.com |       0.64 |          0.62\n",
      "        41 |               stephanie.miller@enron.com |       0.67 |          0.64\n",
      "        42 |                 stanley.horton@enron.com |       0.24 |          0.15\n",
      "        43 |                 stacey.w.white@enron.com |       0.75 |          0.71\n",
      "        44 |                  martin.cuilla@enron.com |       0.36 |          0.23\n",
      "        45 |                 janel.guerrero@enron.com |       0.65 |          0.65\n",
      "        46 |             kenneth.thibodeaux@enron.com |        0.9 |          0.89\n",
      "        47 |                     wsmith@wordsmith.org |        1.0 |           1.0\n",
      "        48 |                    cindy.stark@enron.com |       0.27 |          0.28\n",
      "        49 |            darrell.schoolcraft@enron.com |       0.36 |          0.42\n",
      "        50 |                     scott.neal@enron.com |        0.2 |          0.19\n",
      "        51 |                        vkaminski@aol.com |       0.72 |          0.78\n",
      "        52 |                 alan.aronowitz@enron.com |       0.49 |          0.36\n",
      "        53 |                    mike.carson@enron.com |       0.24 |          0.13\n",
      "        54 |                  jim.schwieger@enron.com |       0.37 |          0.28\n",
      "        55 |                    rahil.jafry@enron.com |       0.67 |          0.51\n",
      "        56 |                     greg.piper@enron.com |       0.52 |           0.4\n",
      "        57 |                richard.shapiro@enron.com |       0.57 |          0.53\n",
      "        58 |                     l..nicolay@enron.com |       0.62 |          0.57\n",
      "        59 |                   mike.grigsby@enron.com |       0.35 |          0.33\n",
      "        60 |                 keegan.farrell@enron.com |       0.61 |           0.6\n",
      "        61 |                     jane.tholt@enron.com |       0.17 |          0.11\n",
      "        62 |                  karen.buckley@enron.com |       0.49 |          0.49\n",
      "        63 |                    britt.davis@enron.com |       0.51 |          0.46\n",
      "        64 |                  john.zufferli@enron.com |       0.19 |          0.14\n",
      "        65 |        enron_update@concureworkplace.com |       0.35 |          0.26\n",
      "        66 |                russell.diamond@enron.com |       0.56 |          0.39\n",
      "        67 |                     tim.belden@enron.com |       0.37 |          0.23\n",
      "        68 |               holden.salisbury@enron.com |       0.27 |          0.19\n",
      "        69 |                 mark.greenberg@enron.com |        0.5 |          0.48\n",
      "        70 |                   paul.kaufman@enron.com |       0.57 |          0.53\n",
      "        71 |               fletcher.j.sturm@enron.com |       0.12 |           0.1\n",
      "        72 |               sandra.f.brawner@enron.com |       0.55 |          0.36\n",
      "        73 |                    andy.zipper@enron.com |       0.22 |          0.15\n",
      "        74 |                  tanya.rohauer@enron.com |       0.36 |          0.37\n",
      "        75 |                harry.kingerski@enron.com |       0.55 |           0.5\n",
      "        76 |                 justin.rostant@enron.com |       0.87 |          0.87\n",
      "        77 |                     ben.jacoby@enron.com |       0.62 |          0.67\n",
      "        78 |                    alan.comnes@enron.com |       0.46 |          0.52\n",
      "        79 |                tori.kuykendall@enron.com |       0.19 |          0.11\n",
      "        80 |                kimberly.hillis@enron.com |       0.43 |          0.53\n",
      "        81 |                amy.fitzpatrick@enron.com |       0.77 |          0.72\n",
      "        82 |                            alex@pira.com |        1.0 |           1.0\n",
      "        83 |                       jbennett@gmssr.com |        0.6 |          0.48\n",
      "        84 |                  sheila.glover@enron.com |       0.57 |           0.5\n",
      "        85 |                      jean.mrha@enron.com |       0.61 |          0.68\n",
      "        86 |                  peter.keohane@enron.com |       0.37 |          0.34\n",
      "        87 |                    mark.palmer@enron.com |        0.5 |          0.44\n",
      "        88 |                 barry.tycholiz@enron.com |       0.45 |          0.26\n",
      "        89 |               errol.mclaughlin@enron.com |       0.29 |          0.26\n",
      "        90 |                 jonathan.mckay@enron.com |       0.25 |          0.21\n",
      "        91 |               joe.stepenovitch@enron.com |       0.62 |          0.55\n",
      "        92 |                  chris.dorland@enron.com |       0.27 |          0.19\n",
      "        93 |                     liz.taylor@enron.com |       0.46 |          0.45\n",
      "        94 |                  suzanne.adams@enron.com |       0.75 |          0.74\n",
      "        95 |                      sylvia.hu@enron.com |       0.39 |          0.38\n",
      "        96 |                  brian.redmond@enron.com |       0.51 |          0.49\n",
      "        97 |                    amr.ibrahim@enron.com |        0.6 |          0.59\n",
      "        98 |                   paul.y barbo@enron.com |       0.31 |          0.24\n",
      "        99 |               monika.causholli@enron.com |       0.32 |          0.32\n",
      "       100 |                   shona.wilson@enron.com |       0.46 |          0.47\n",
      "       101 |                     bob.shults@enron.com |       0.63 |          0.45\n",
      "       102 |                    andrea.ring@enron.com |       0.42 |          0.23\n",
      "       103 |                phillip.platter@enron.com |       0.28 |          0.33\n",
      "       104 |                  paul.d.thomas@enron.com |       0.25 |          0.29\n",
      "       105 |                grace.rodriguez@enron.com |       0.63 |          0.47\n",
      "       106 |               christina.valdez@enron.com |       0.49 |           0.8\n",
      "       107 |                 mark.mcconnell@enron.com |       0.52 |          0.44\n",
      "       108 |                lisa.mellencamp@enron.com |       0.39 |          0.31\n",
      "       109 |                    david.portz@enron.com |       0.47 |          0.49\n",
      "       110 |                christian.yoder@enron.com |       0.32 |          0.27\n",
      "       111 |                 jennifer.thome@enron.com |       0.64 |           0.6\n",
      "       112 |                stephanie.sever@enron.com |       0.67 |          0.68\n",
      "       113 |                    c..williams@enron.com |       0.68 |          0.66\n",
      "       114 |                 heather.dunton@enron.com |       0.74 |          0.62\n",
      "       115 |    schwabalerts.marketupdates@schwab.com |        1.0 |           1.0\n",
      "       116 |                     brad.mckay@enron.com |       0.16 |          0.22\n",
      "       117 |                     mike.maggi@enron.com |       0.57 |           0.8\n",
      "       118 |             joannie.williamson@enron.com |       0.57 |          0.57\n",
      "       119 |                      l..denton@enron.com |       0.86 |          0.82\n",
      "       120 |               michael.tribolet@enron.com |       0.55 |          0.56\n",
      "       121 |              kathleen.carnahan@enron.com |       0.67 |          0.85\n",
      "       122 |                    jason.wolfe@enron.com |       0.21 |          0.26\n",
      "       123 |                  andrew.edison@enron.com |       0.46 |          0.46\n",
      "       124 |                     david.port@enron.com |       0.56 |          0.41\n",
      "------------------------------------------------------------------------------------------\n",
      "error TOT = 0.48\n"
     ]
    }
   ],
   "source": [
    "from sklearn.model_selection import ShuffleSplit\n",
    "\n",
    "# splitting data for cross validation\n",
    "skf = ShuffleSplit(n_splits=1, test_size=0.2)\n",
    "print('%10s | %40s | %10s | %10s' %('sender_nb', 'sender', 'accuracy','accuracy freq'))\n",
    "print('%10s + %40s + %10s + %13s' %(10*'-', 40*'-', 10*'-', 13*'-'))\n",
    "\n",
    "for train_is, test_is in skf.split(y_df):\n",
    "    \n",
    "    X_tfidf_train = X_TFIDF[train_is].copy()\n",
    "    y_train = y_df.recipients.loc[train_is].copy()\n",
    "    X_tfidf_test = X_TFIDF[test_is].copy()\n",
    "    y_test = y_df.recipients.loc[test_is].copy()\n",
    "    X_test_df = X_df.loc[test_is].copy()\n",
    "    X_train_df = X_df.loc[train_is].copy()\n",
    "    \n",
    "    i=0\n",
    "    pdt = {}\n",
    "    pdt_freq = {}\n",
    "    accuracy = {}\n",
    "    accuracy_freq = {}\n",
    "    accuracy_TOT = 0\n",
    "    sender_test = X_test_df.sender.unique().tolist()\n",
    "    y_pred = np.empty((X_test_df.shape[0],10),dtype=object)\n",
    "    y_pred_freq = np.empty((X_test_df.shape[0],10),dtype=object)\n",
    "\n",
    "    for sender in sender_test:\n",
    "        print('%10s | %40s | ' %(sender_test.index(sender), sender), end='')\n",
    "        # indices corresponding to the sender\n",
    "        sender_train_is = np.array(X_train_df.sender == sender)\n",
    "        sender_test_is = np.array(X_test_df.sender == sender)\n",
    "        \n",
    "        pdt[sender] = Predictor_CTFIDF(X_tfidf_train[sender_train_is], y_train[sender_train_is], sender, address_books)\n",
    "        pdt_freq[sender] = Predictor_CTFIDF(X_tfidf_train[sender_train_is], y_train[sender_train_is], sender, address_books, N=0)\n",
    "        y_pred[sender_test_is] = pdt[sender].prediction(X_tfidf_test[sender_test_is])\n",
    "        y_pred_freq[sender_test_is] = pdt_freq[sender].prediction(X_tfidf_test[sender_test_is])\n",
    "        \n",
    "        accuracy[sender] = mapk(y_test[sender_test_is], y_pred[sender_test_is])\n",
    "        accuracy_freq[sender] = mapk(y_test[sender_test_is], y_pred_freq[sender_test_is])\n",
    "        \n",
    "        accuracy_TOT += accuracy[sender]\n",
    "        print('%10s | %13s' %(round(accuracy[sender],2),round(accuracy_freq[sender],2)))\n",
    "\n",
    "    print('%30s'%(90*'-'))\n",
    "    print('error TOT = %.2f' %(accuracy_TOT/len(accuracy)))"
   ]
  },
  {
   "cell_type": "code",
   "execution_count": 104,
   "metadata": {
    "collapsed": false
   },
   "outputs": [],
   "source": [
    "# print(y_pred[np.array(X_test_df.sender == 'kimberly.hillis@enron.com')])"
   ]
  },
  {
   "cell_type": "code",
   "execution_count": 105,
   "metadata": {
    "collapsed": false
   },
   "outputs": [],
   "source": [
    "# print(y_pred_freq[np.array(X_test_df.sender == 'kimberly.hillis@enron.com')])"
   ]
  },
  {
   "cell_type": "code",
   "execution_count": 106,
   "metadata": {
    "collapsed": false
   },
   "outputs": [],
   "source": [
    "# print(y_test[np.array(X_test_df.sender == 'kimberly.hillis@enron.com')].values)"
   ]
  },
  {
   "cell_type": "markdown",
   "metadata": {
    "collapsed": true
   },
   "source": [
    "<h2>Create submission</h2>"
   ]
  },
  {
   "cell_type": "code",
   "execution_count": 111,
   "metadata": {
    "collapsed": true
   },
   "outputs": [],
   "source": [
    "def create_submission(y_pred,X_test_df):\n",
    "\n",
    "    predictions_towrite={}\n",
    "    x_test=X_test_df.values\n",
    "    for i in range(len(y_pred)):\n",
    "        recipients=y_pred[i]\n",
    "        mid=x_test[i][0]\n",
    "        predictions_towrite[mid]=recipients\n",
    "\n",
    "    count=0\n",
    "    with open('./pred_custom.txt', 'w') as my_file:\n",
    "        my_file.write('mid,recipients' + '\\n')\n",
    "        for ids, preds in predictions_towrite.items():\n",
    "            count=count+1\n",
    "            r=str(ids)+\",\"\n",
    "            for s in preds:\n",
    "                r=r+\" \"+str(s)\n",
    "            r=r+'\\n'\n",
    "            my_file.write(r)"
   ]
  },
  {
   "cell_type": "code",
   "execution_count": 113,
   "metadata": {
    "collapsed": false
   },
   "outputs": [],
   "source": [
    "sender_test = X_sub_df.sender.unique().tolist()\n",
    "y_pred = np.empty((X_sub_df.shape[0],10),dtype=object)\n",
    "count=0\n",
    "pdt = {}\n",
    "\n",
    "for sender in sender_test:\n",
    "    # indices corresponding to the sender\n",
    "    sender_train_is = np.array(X_df.sender == sender)\n",
    "    sender_test_is = np.array(X_sub_df.sender == sender)\n",
    "\n",
    "    pdt[sender] = Predictor_1(X_TFIDF[sender_train_is], y_df[sender_train_is], sender, address_books)\n",
    "    y_pred[sender_test_is] = pdt[sender].predict_1(X_sub_TFIDF[sender_test_is])\n",
    "    \n",
    "create_submission(y_pred,X_sub_df)"
   ]
  },
  {
   "cell_type": "code",
   "execution_count": 126,
   "metadata": {
    "collapsed": false
   },
   "outputs": [
    {
     "name": "stdout",
     "output_type": "stream",
     "text": [
      "(array([ 399,  410,  414, 1460, 1461, 1462, 1463, 1464, 1465, 1467, 1468,\n",
      "       1469, 1471, 1545, 1546, 1558, 1566, 1677, 1678, 1679, 1680, 1681,\n",
      "       1682]), array([1, 1, 1, 2, 2, 2, 2, 2, 2, 2, 2, 2, 2, 2, 2, 2, 2, 2, 2, 2, 2, 2, 2]))\n",
      "['robert.badeer@enron.com' 'murray.o' 'neil@enron.com'\n",
      " 'tim.belden@enron.com' 'elizabeth.sager@enron.com'\n",
      " 'carla.hoffman@enron.com' 'jeff.richter@enron.com'\n",
      " 'chris.stokley@enron.com' 'valarie.sabo@enron.com' 'e..haedicke@enron.com']\n"
     ]
    }
   ],
   "source": [
    "idx = np.where(y_pred == 'murray.o')\n",
    "print(idx)\n",
    "print(y_pred[399])"
   ]
  },
  {
   "cell_type": "code",
   "execution_count": null,
   "metadata": {
    "collapsed": true
   },
   "outputs": [],
   "source": []
  }
 ],
 "metadata": {
  "anaconda-cloud": {},
  "kernelspec": {
   "display_name": "Python [conda root]",
   "language": "python",
   "name": "conda-root-py"
  },
  "language_info": {
   "codemirror_mode": {
    "name": "ipython",
    "version": 3
   },
   "file_extension": ".py",
   "mimetype": "text/x-python",
   "name": "python",
   "nbconvert_exporter": "python",
   "pygments_lexer": "ipython3",
   "version": "3.5.2"
  }
 },
 "nbformat": 4,
 "nbformat_minor": 1
}
