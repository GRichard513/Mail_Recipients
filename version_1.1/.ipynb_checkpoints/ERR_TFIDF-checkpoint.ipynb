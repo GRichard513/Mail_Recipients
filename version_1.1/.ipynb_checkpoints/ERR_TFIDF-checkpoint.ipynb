{
 "cells": [
  {
   "cell_type": "markdown",
   "metadata": {},
   "source": [
    "<h1>Email recipient recommendation</h1>\n",
    "\n",
    "<i>Thomas Boudou, Guillaume Richard, Antoine Simoulin</i>\n",
    "\n",
    "<p style=\"text-align: justify\">It was shown that at work, employees frequently forget to include one or more recipient(s) before sending a message. Conversely, it is common that some recipients of a given message were actually not intended to receive the message. To increase productivity and prevent information leakage, the needs for effective <b>email recipient recommendation</b> systems are thus pressing.\n",
    "\n",
    "In this challenge, you are asked to develop such a system, which, given the content and the date of a message, recommends a list of <b>10 recipients ranked by decreasing order of relevance</b>.</p>"
   ]
  },
  {
   "cell_type": "code",
   "execution_count": 1,
   "metadata": {
    "collapsed": false
   },
   "outputs": [],
   "source": [
    "# Requirements\n",
    "%matplotlib inline\n",
    "import random\n",
    "import pandas as pd\n",
    "import numpy as np\n",
    "# do not display warnings\n",
    "import warnings\n",
    "warnings.filterwarnings(\"ignore\")\n",
    "\n",
    "# Functions files are saved in \"src/\" directory.\n",
    "import sys\n",
    "sys.path.append('src/')\n",
    "from accuracy_measure import *"
   ]
  },
  {
   "cell_type": "code",
   "execution_count": 2,
   "metadata": {
    "collapsed": false
   },
   "outputs": [],
   "source": [
    "from load_data import *\n",
    "\n",
    "# load files\n",
    "# Data are saved in \"data/\" directory\n",
    "path_to_data = 'data/'\n",
    "training, training_info, test, test_info, y_df = load_data(path_to_data)\n",
    "\n",
    "# create adress book\n",
    "# /!\\ can take 1-2 min\n",
    "address_books = create_address_books(training, y_df)\n",
    "\n",
    "# join train and test files\n",
    "X_df = join_data(training_info, training)\n",
    "X_sub_df = join_data(test_info, test)\n",
    "\n",
    "# remove non authorise adress from y_df\n",
    "y_df = clean(y_df)"
   ]
  },
  {
   "cell_type": "code",
   "execution_count": 3,
   "metadata": {
    "collapsed": false
   },
   "outputs": [
    {
     "name": "stdout",
     "output_type": "stream",
     "text": [
      "performed Tf-Idf in 23 seconds.\n",
      "performed Tf-Idf in  1 seconds.\n"
     ]
    }
   ],
   "source": [
    "import TFIDF_mod\n",
    "from TFIDF_mod import TFIDF\n",
    "\n",
    "# transform each mail body into tfidf vector\n",
    "# /!\\ function can take 1-2 min to execute\n",
    "TFIDF = TFIDF()\n",
    "X_TFIDF = TFIDF.fit_transform(X_df) # resulting shape : (43613, 275988)\n",
    "X_sub_TFIDF = TFIDF.transform(X_sub_df)"
   ]
  },
  {
   "cell_type": "markdown",
   "metadata": {},
   "source": [
    "<h2>Predictors</h2>"
   ]
  },
  {
   "cell_type": "code",
   "execution_count": 4,
   "metadata": {
    "collapsed": true
   },
   "outputs": [],
   "source": [
    "from sklearn.metrics.pairwise import cosine_similarity\n",
    "import numpy as np\n",
    "\n",
    "def complete_prediction(k, sender, address_books, res_temp, K=10):\n",
    "    # k the number of recipients to predict\n",
    "    k_most = [elt[0] for elt in address_books[sender][:K] if elt[0] not in res_temp]\n",
    "    k_most = k_most[:k]\n",
    "    if len(k_most) < k: # sender n'a pas assez de contacts\n",
    "        k_most.extend([0] * (k-len(k_most)))\n",
    "    return k_most"
   ]
  },
  {
   "cell_type": "markdown",
   "metadata": {},
   "source": [
    "<h3>Predictor closest message with Tf-Idf</h3>"
   ]
  },
  {
   "cell_type": "code",
   "execution_count": 5,
   "metadata": {
    "collapsed": false
   },
   "outputs": [],
   "source": [
    "class Predictor_TFIDF():\n",
    "    def __init__(self, X, y, sender, address_books,N=10):\n",
    "        self.train = X\n",
    "        self.predict = y.values\n",
    "        self.sender = sender\n",
    "        self.address_books = address_books\n",
    "        self.N = min(N,10)\n",
    "        \n",
    "    def prediction(self, X):\n",
    "        res = []\n",
    "        for i in range(X.shape[0]):\n",
    "            cos = cosine_similarity(X[i],self.train).argsort()[:,0][0] # mail le plus proche\n",
    "            if self.N != 0:\n",
    "                res_temp = [self.predict[cos][0][:self.N]] # add the N first recipients of the closest e-mail\n",
    "            else:\n",
    "                 res_temp = []\n",
    "            # if less than 10 recipients, complete the prediction with more frequents users\n",
    "            if len(res_temp) < 10:\n",
    "                res_temp.extend(complete_prediction(10-len(res_temp),self.sender, self.address_books, res_temp))\n",
    "            res.append(res_temp)\n",
    "        return res"
   ]
  },
  {
   "cell_type": "markdown",
   "metadata": {},
   "source": [
    "<h3>Predictor KNN</h3>"
   ]
  },
  {
   "cell_type": "code",
   "execution_count": 6,
   "metadata": {
    "collapsed": true
   },
   "outputs": [],
   "source": [
    "class Predictor_KNN():\n",
    "    def __init__(self, X, y, sender, address_books,N=10):\n",
    "        self.train = X\n",
    "        self.predict = y.values\n",
    "        self.sender = sender\n",
    "        self.N = min(N,10)\n",
    "        self.address_books = address_books\n",
    "\n",
    "    def prediction(self, X):\n",
    "        res = []\n",
    "        for i in range(X.shape[0]):\n",
    "            cos = cosine_similarity(X[i],self.train).argsort()[:,:30][0] # 30 mails les plus proches\n",
    "            if self.N != 0:\n",
    "                NN_recpt = {}\n",
    "                for j in range(30):\n",
    "                    for k in range(len(self.predict[cos[j]])):\n",
    "                        if self.predict[cos[j]][k] in NN_recpt:\n",
    "                            NN_recpt[self.predict[cos[j]][k]]+= 1\n",
    "                        else:\n",
    "                            NN_recpt[self.predict[cos[j]][k]] = 1\n",
    "                res_temp = [k for k in sorted(NN_recpt, key=NN_recpt.get, reverse=True)][:10]\n",
    "                #list(dict(sorted(NN_recpt.items(), key=operator.itemgetter(1), reverse=True)[:10]))\n",
    "            else:\n",
    "                 res_temp = []\n",
    "            # if less than 10 recipients, complete the prediction with more frequents users\n",
    "            if len(res_temp) < 10:\n",
    "                res_temp.extend(complete_prediction(10-len(res_temp),self.sender, self.address_books, res_temp))\n",
    "            res.append(res_temp)\n",
    "        return res"
   ]
  },
  {
   "cell_type": "markdown",
   "metadata": {},
   "source": [
    "<h3>Predictor Tf-Idf centralized centroïd</h3>"
   ]
  },
  {
   "cell_type": "code",
   "execution_count": 7,
   "metadata": {
    "collapsed": false
   },
   "outputs": [],
   "source": [
    "import scipy\n",
    "from sklearn.preprocessing import normalize\n",
    "\n",
    "\n",
    "class Predictor_CTFIDF():\n",
    "    def __init__(self, X, y, sender, address_books,N=10):\n",
    "        self.N = min(N,10)\n",
    "        self.train = X\n",
    "        self.predict = y.values\n",
    "        self.sender = sender\n",
    "        self.address_books = address_books\n",
    "        self.X_recpt = {}\n",
    "        \n",
    "        # perform centroid Tf-Idf. i.e each 10 most frequent recipients is represented \n",
    "        # by an average of all mail he received.\n",
    "        # exctract 10 most frequents recipients\n",
    "        self.k_most = [elt[0] for elt in address_books[sender][:10]]\n",
    "        # perform average Tf-Idf on 10 most frequents recipients\n",
    "        for recpt in self.k_most: # loop trough 10 most frequents recipients\n",
    "            for i in range(X.shape[0]): # loop trough all mails send by sender\n",
    "                if recpt in self.predict[i]: # if recipients is in mail\n",
    "                    if recpt in self.X_recpt:\n",
    "                        self.X_recpt[recpt] += X[i,:]\n",
    "                    else:\n",
    "                        self.X_recpt[recpt] = X[i,:]\n",
    "            #self.X_recpt[recpt] = normalize(self.X_recpt[recpt], norm='l2', axis=1) # normalize tfidf vector\n",
    "\n",
    "    def prediction(self, X):\n",
    "        res = []\n",
    "        cos = {}\n",
    "        for i in range(X.shape[0]):\n",
    "            # cosine similarity with 10 most frequents recpt\n",
    "            for recpt, value in self.X_recpt.items():\n",
    "                #if isinstance(self.X_recpt[recpt], list): # check that sender has more than 10 recipients\n",
    "                cos[recpt] = cosine_similarity(X[i],self.X_recpt[recpt])#.argsort()[:,0][0]\n",
    "                #else:\n",
    "                #    cos[recpt] = 1\n",
    "            #if i==0:\n",
    "            #    print(cos)\n",
    "            #if 'no.address@enron.com' in cos:\n",
    "            #    cos['no.address@enron.com'] += 100\n",
    "            if self.N != 0:\n",
    "                # return the 10 most frequent recipients in order \n",
    "                # given by similarity to their centroid Tf-Idf representation\n",
    "                res_temp = [k for k in sorted(cos, key=cos.get, reverse=True)]\n",
    "                #list(dict(sorted(cos.items(), key=operator.itemgetter(1), reverse=False)[:10]))\n",
    "            else:\n",
    "                 res_temp = []\n",
    "            # if less than 10 recipients, complete the prediction with more frequents users\n",
    "            if len(res_temp) < 10:\n",
    "                res_temp.extend(complete_prediction(10-len(res_temp),self.sender, self.address_books, res_temp))\n",
    "            res.append(res_temp)\n",
    "        return res"
   ]
  },
  {
   "cell_type": "markdown",
   "metadata": {},
   "source": [
    "<h2>Cross validation module</h2>"
   ]
  },
  {
   "cell_type": "code",
   "execution_count": 13,
   "metadata": {
    "collapsed": false
   },
   "outputs": [
    {
     "name": "stdout",
     "output_type": "stream",
     "text": [
      " sender_nb |                                   sender |   accuracy | accuracy freq\n",
      "---------- + ---------------------------------------- + ---------- + -------------\n",
      "         0 |                christian.yoder@enron.com |       0.54 |          0.45\n",
      "         1 |                stephanie.panus@enron.com |       0.53 |          0.52\n",
      "         2 |                    mark.palmer@enron.com |       0.61 |          0.56\n",
      "         3 |            darrell.schoolcraft@enron.com |       0.37 |          0.43\n",
      "         4 |                  john.lavorato@enron.com |       0.38 |           0.2\n",
      "         5 |                  chris.germany@enron.com |       0.16 |          0.12\n",
      "         6 |          nancy.sellers@robertmondavi.com |       0.77 |          0.87\n",
      "         7 |                  david.forster@enron.com |       0.62 |          0.54\n",
      "         8 |                     sally.beck@enron.com |       0.22 |          0.16\n",
      "         9 |                      eric.bass@enron.com |       0.37 |          0.21\n",
      "        10 |                     greg.piper@enron.com |       0.52 |          0.41\n",
      "        11 |               errol.mclaughlin@enron.com |       0.26 |          0.24\n",
      "        12 |                  martin.cuilla@enron.com |       0.42 |          0.29\n",
      "        13 |               holden.salisbury@enron.com |        0.2 |          0.15\n",
      "        14 |                 phillip.m.love@enron.com |       0.16 |          0.12\n",
      "        15 |                     jane.tholt@enron.com |       0.25 |          0.17\n",
      "        16 |                 ginger.dernehl@enron.com |       0.84 |          0.83\n",
      "        17 |                lisa.mellencamp@enron.com |        0.4 |           0.3\n",
      "        18 |                    susan.scott@enron.com |       0.18 |          0.09\n",
      "        19 |                    alan.comnes@enron.com |       0.47 |          0.47\n",
      "        20 |                       c..giron@enron.com |       0.25 |          0.19\n",
      "        21 |                      m..forney@enron.com |       0.25 |          0.23\n",
      "        22 |                sara.shackleton@enron.com |       0.22 |          0.12\n",
      "        23 |                    marie.heard@enron.com |        0.2 |          0.18\n",
      "        24 |                james.d.steffes@enron.com |        0.3 |          0.24\n",
      "        25 |                     scott.neal@enron.com |       0.26 |           0.2\n",
      "        26 |                    rahil.jafry@enron.com |       0.77 |           0.7\n",
      "        27 |                   shona.wilson@enron.com |       0.46 |          0.47\n",
      "        28 |                  james.derrick@enron.com |       0.44 |          0.38\n",
      "        29 |                tori.kuykendall@enron.com |       0.23 |          0.13\n",
      "        30 |                  michelle.cash@enron.com |       0.24 |           0.2\n",
      "        31 |                 stacey.w.white@enron.com |       0.76 |          0.71\n",
      "        32 |                richard.shapiro@enron.com |       0.54 |          0.49\n",
      "        33 |                  chris.dorland@enron.com |       0.28 |          0.19\n",
      "        34 |               stephanie.miller@enron.com |        0.6 |          0.58\n",
      "        35 |                       kim.ward@enron.com |       0.36 |          0.21\n",
      "        36 |               michael.tribolet@enron.com |       0.59 |          0.58\n",
      "        37 |                         taylor@enron.com |       0.25 |          0.24\n",
      "        38 |                      l..denton@enron.com |       0.94 |          0.92\n",
      "        39 |                  suzanne.adams@enron.com |       0.72 |          0.66\n",
      "        40 |                     david.port@enron.com |       0.52 |          0.34\n",
      "        41 |                 jason.williams@enron.com |       0.46 |          0.26\n",
      "        42 |             kenneth.thibodeaux@enron.com |       0.83 |          0.82\n",
      "        43 |                     lynn.blair@enron.com |       0.37 |          0.28\n",
      "        44 |                    mike.carson@enron.com |       0.21 |          0.13\n",
      "        45 |                     matt.smith@enron.com |       0.29 |          0.18\n",
      "        46 |               sandra.f.brawner@enron.com |       0.52 |          0.36\n",
      "        47 |        enron_update@concureworkplace.com |       0.37 |          0.25\n",
      "        48 |                harry.kingerski@enron.com |       0.52 |          0.57\n",
      "        49 |                   mike.grigsby@enron.com |       0.42 |          0.38\n",
      "        50 |                     ben.jacoby@enron.com |       0.55 |           0.5\n",
      "        51 |                 justin.rostant@enron.com |       0.73 |          0.73\n",
      "        52 |               christina.valdez@enron.com |       0.49 |          0.82\n",
      "        53 |                 barry.tycholiz@enron.com |       0.41 |          0.25\n",
      "        54 |                 stanley.horton@enron.com |       0.22 |          0.13\n",
      "        55 |                     l..nicolay@enron.com |       0.58 |          0.56\n",
      "        56 |                    andy.zipper@enron.com |       0.25 |          0.16\n",
      "        57 |                  john.zufferli@enron.com |       0.22 |          0.21\n",
      "        58 |                       rick.buy@enron.com |        0.2 |          0.15\n",
      "        59 |                            alex@pira.com |        1.0 |           1.0\n",
      "        60 |                 cheryl.johnson@enron.com |       0.87 |          0.87\n",
      "        61 |                   holly.keiser@enron.com |       0.81 |          0.81\n",
      "        62 |                 mark.greenberg@enron.com |       0.59 |          0.59\n",
      "        63 |                      mary.cook@enron.com |       0.42 |          0.41\n",
      "        64 |                 kevin.m.presto@enron.com |       0.27 |           0.2\n",
      "        65 |                  becky.spencer@enron.com |       0.62 |          0.62\n",
      "        66 |                        vkaminski@aol.com |       0.82 |          0.84\n",
      "        67 |                     m..schmidt@enron.com |       0.96 |          0.97\n",
      "        68 |               marcus.nettelton@enron.com |       0.65 |          0.59\n",
      "        69 |    schwabalerts.marketupdates@schwab.com |        1.0 |           1.0\n",
      "        70 |                kimberly.hillis@enron.com |       0.35 |          0.39\n",
      "        71 |                     bob.shults@enron.com |       0.54 |          0.43\n",
      "        72 |                amy.fitzpatrick@enron.com |       0.75 |          0.71\n",
      "        73 |                   paul.kaufman@enron.com |       0.54 |          0.64\n",
      "        74 |                 jonathan.mckay@enron.com |       0.33 |          0.22\n",
      "        75 |                 heather.dunton@enron.com |        0.7 |          0.54\n",
      "        76 |                    amr.ibrahim@enron.com |       0.66 |          0.63\n",
      "        77 |                  sheila.glover@enron.com |       0.54 |          0.48\n",
      "        78 |                grace.rodriguez@enron.com |       0.78 |          0.55\n",
      "        79 |                 patrice.l.mims@enron.com |       0.38 |           0.2\n",
      "        80 |                     tim.belden@enron.com |       0.37 |          0.34\n",
      "        81 |                       jbennett@gmssr.com |       0.67 |          0.57\n",
      "        82 |                  karen.buckley@enron.com |       0.52 |           0.5\n",
      "        83 |               larry.f.campbell@enron.com |        0.2 |          0.16\n",
      "        84 |             joannie.williamson@enron.com |       0.56 |          0.57\n",
      "        85 |                     wsmith@wordsmith.org |        1.0 |           1.0\n",
      "        86 |                  lorna.brennan@enron.com |       0.82 |          0.83\n",
      "        87 |                julie.armstrong@enron.com |       0.67 |           0.6\n",
      "        88 |                 keegan.farrell@enron.com |        0.7 |           0.7\n",
      "        89 |                    britt.davis@enron.com |       0.47 |          0.43\n",
      "        90 |                stephanie.sever@enron.com |       0.51 |          0.67\n",
      "        91 |               monika.causholli@enron.com |       0.35 |          0.37\n",
      "        92 |                    w..cantrell@enron.com |        0.7 |          0.71\n",
      "        93 |                  brian.redmond@enron.com |       0.48 |          0.45\n",
      "        94 |                    karen.denne@enron.com |        0.6 |          0.62\n",
      "        95 |                russell.diamond@enron.com |       0.58 |          0.36\n",
      "        96 |                  paul.d.thomas@enron.com |        0.3 |          0.29\n",
      "        97 |                   paul.y barbo@enron.com |       0.27 |          0.23\n",
      "        98 |               hunter.s.shively@enron.com |       0.38 |          0.28\n",
      "        99 |                phillip.platter@enron.com |        0.3 |          0.18\n",
      "       100 |                     liz.taylor@enron.com |       0.42 |          0.48\n",
      "       101 |                 alan.aronowitz@enron.com |       0.54 |          0.37\n",
      "       102 |                    c..williams@enron.com |       0.51 |           0.5\n",
      "       103 |                    david.portz@enron.com |       0.49 |          0.44\n",
      "       104 |                   megan.parker@enron.com |        0.8 |          0.84\n",
      "       105 |                  andrew.edison@enron.com |       0.58 |          0.52\n",
      "       106 |                      sylvia.hu@enron.com |       0.46 |          0.45\n",
      "       107 |                     mark.whitt@enron.com |       0.41 |          0.36\n",
      "       108 |               fletcher.j.sturm@enron.com |       0.21 |          0.16\n",
      "       109 |                  peter.keohane@enron.com |       0.49 |          0.44\n",
      "       110 |                 janel.guerrero@enron.com |        0.6 |          0.59\n",
      "       111 |                   beth.cherry@enform.com |       0.78 |          0.94\n",
      "       112 |                  dutch.quigley@enron.com |       0.37 |          0.32\n",
      "       113 |                  jim.schwieger@enron.com |       0.39 |          0.23\n",
      "       114 |                      jean.mrha@enron.com |        0.5 |          0.56\n",
      "       115 |                 mark.mcconnell@enron.com |       0.42 |          0.37\n",
      "       116 |                 jennifer.thome@enron.com |       0.56 |          0.61\n",
      "       117 |                  tanya.rohauer@enron.com |       0.45 |          0.45\n",
      "       118 |                    jason.wolfe@enron.com |       0.15 |          0.13\n",
      "       119 |                    andrea.ring@enron.com |       0.49 |          0.38\n",
      "       120 |               joe.stepenovitch@enron.com |       0.71 |          0.37\n",
      "       121 |                    cindy.stark@enron.com |       0.32 |          0.35\n",
      "       122 |                     mike.maggi@enron.com |       0.48 |          0.78\n",
      "       123 |              kathleen.carnahan@enron.com |       0.64 |          0.78\n",
      "       124 |                     brad.mckay@enron.com |       0.14 |          0.17\n",
      "------------------------------------------------------------------------------------------\n",
      "error TOT = 0.49\n"
     ]
    }
   ],
   "source": [
    "from sklearn.model_selection import ShuffleSplit\n",
    "\n",
    "# splitting data for cross validation\n",
    "skf = ShuffleSplit(n_splits=1, test_size=0.2)\n",
    "print('%10s | %40s | %10s | %10s' %('sender_nb', 'sender', 'accuracy','accuracy freq'))\n",
    "print('%10s + %40s + %10s + %13s' %(10*'-', 40*'-', 10*'-', 13*'-'))\n",
    "\n",
    "for train_is, test_is in skf.split(y_df):\n",
    "    \n",
    "    X_tfidf_train = X_TFIDF[train_is].copy()\n",
    "    y_train = y_df.recipients.loc[train_is].copy()\n",
    "    X_tfidf_test = X_TFIDF[test_is].copy()\n",
    "    y_test = y_df.recipients.loc[test_is].copy()\n",
    "    X_test_df = X_df.loc[test_is].copy()\n",
    "    X_train_df = X_df.loc[train_is].copy()\n",
    "    \n",
    "    i=0\n",
    "    pdt = {}\n",
    "    pdt_freq = {}\n",
    "    accuracy = {}\n",
    "    accuracy_freq = {}\n",
    "    accuracy_TOT = 0\n",
    "    sender_test = X_test_df.sender.unique().tolist()\n",
    "    y_pred = np.empty((X_test_df.shape[0],10),dtype=object)\n",
    "    y_pred_freq = np.empty((X_test_df.shape[0],10),dtype=object)\n",
    "\n",
    "    for sender in sender_test:\n",
    "        print('%10s | %40s | ' %(sender_test.index(sender), sender), end='')\n",
    "        # indices corresponding to the sender\n",
    "        sender_train_is = np.array(X_train_df.sender == sender)\n",
    "        sender_test_is = np.array(X_test_df.sender == sender)\n",
    "        \n",
    "        pdt[sender] = Predictor_CTFIDF(X_tfidf_train[sender_train_is], y_train[sender_train_is], sender, address_books)\n",
    "        pdt_freq[sender] = Predictor_CTFIDF(X_tfidf_train[sender_train_is], y_train[sender_train_is], sender, address_books, N=0)\n",
    "        y_pred[sender_test_is] = pdt[sender].prediction(X_tfidf_test[sender_test_is])\n",
    "        y_pred_freq[sender_test_is] = pdt_freq[sender].prediction(X_tfidf_test[sender_test_is])\n",
    "        \n",
    "        accuracy[sender] = mapk(y_test[sender_test_is], y_pred[sender_test_is])\n",
    "        accuracy_freq[sender] = mapk(y_test[sender_test_is], y_pred_freq[sender_test_is])\n",
    "        \n",
    "        accuracy_TOT += accuracy[sender]\n",
    "        print('%10s | %13s' %(round(accuracy[sender],2),round(accuracy_freq[sender],2)))\n",
    "\n",
    "    print('%30s'%(90*'-'))\n",
    "    print('error TOT = %.2f' %(accuracy_TOT/len(accuracy)))"
   ]
  },
  {
   "cell_type": "code",
   "execution_count": 104,
   "metadata": {
    "collapsed": false
   },
   "outputs": [],
   "source": [
    "# print(y_pred[np.array(X_test_df.sender == 'kimberly.hillis@enron.com')])"
   ]
  },
  {
   "cell_type": "code",
   "execution_count": 105,
   "metadata": {
    "collapsed": false
   },
   "outputs": [],
   "source": [
    "# print(y_pred_freq[np.array(X_test_df.sender == 'kimberly.hillis@enron.com')])"
   ]
  },
  {
   "cell_type": "code",
   "execution_count": 106,
   "metadata": {
    "collapsed": false
   },
   "outputs": [],
   "source": [
    "# print(y_test[np.array(X_test_df.sender == 'kimberly.hillis@enron.com')].values)"
   ]
  },
  {
   "cell_type": "markdown",
   "metadata": {
    "collapsed": true
   },
   "source": [
    "<h2>Create submission</h2>"
   ]
  },
  {
   "cell_type": "code",
   "execution_count": 8,
   "metadata": {
    "collapsed": true
   },
   "outputs": [],
   "source": [
    "def create_submission(y_pred,X_test_df):\n",
    "\n",
    "    predictions_towrite={}\n",
    "    x_test=X_test_df.values\n",
    "    for i in range(len(y_pred)):\n",
    "        recipients=y_pred[i]\n",
    "        mid=x_test[i][0]\n",
    "        predictions_towrite[mid]=recipients\n",
    "\n",
    "    count=0\n",
    "    with open('./pred_custom.txt', 'w') as my_file:\n",
    "        my_file.write('mid,recipients' + '\\n')\n",
    "        for ids, preds in predictions_towrite.items():\n",
    "            count=count+1\n",
    "            r=str(ids)+\",\"\n",
    "            for s in preds:\n",
    "                r=r+\" \"+str(s)\n",
    "            r=r+'\\n'\n",
    "            my_file.write(r)"
   ]
  },
  {
   "cell_type": "code",
   "execution_count": 15,
   "metadata": {
    "collapsed": false
   },
   "outputs": [],
   "source": [
    "sender_test = X_sub_df.sender.unique().tolist()\n",
    "y_pred = np.empty((X_sub_df.shape[0],10),dtype=object)\n",
    "count=0\n",
    "pdt = {}\n",
    "\n",
    "for sender in sender_test:\n",
    "    # indices corresponding to the sender\n",
    "    sender_train_is = np.array(X_df.sender == sender)\n",
    "    sender_test_is = np.array(X_sub_df.sender == sender)\n",
    "    \n",
    "    y_train_all = y_df.recipients.copy()\n",
    "    pdt[sender] = Predictor_CTFIDF(X_TFIDF[sender_train_is], y_train_all[sender_train_is], sender, address_books)\n",
    "    y_pred[sender_test_is] = pdt[sender].prediction(X_sub_TFIDF[sender_test_is])\n",
    "    \n",
    "create_submission(y_pred,X_sub_df)"
   ]
  },
  {
   "cell_type": "code",
   "execution_count": null,
   "metadata": {
    "collapsed": true
   },
   "outputs": [],
   "source": []
  }
 ],
 "metadata": {
  "anaconda-cloud": {},
  "kernelspec": {
   "display_name": "Python [conda root]",
   "language": "python",
   "name": "conda-root-py"
  },
  "language_info": {
   "codemirror_mode": {
    "name": "ipython",
    "version": 3
   },
   "file_extension": ".py",
   "mimetype": "text/x-python",
   "name": "python",
   "nbconvert_exporter": "python",
   "pygments_lexer": "ipython3",
   "version": "3.5.2"
  }
 },
 "nbformat": 4,
 "nbformat_minor": 1
}
